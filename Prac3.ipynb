{
 "cells": [
  {
   "cell_type": "code",
   "execution_count": 1,
   "id": "initial_id",
   "metadata": {
    "collapsed": true,
    "ExecuteTime": {
     "end_time": "2024-04-27T16:54:46.375688400Z",
     "start_time": "2024-04-27T16:54:45.218432300Z"
    }
   },
   "outputs": [
    {
     "name": "stdout",
     "output_type": "stream",
     "text": [
      "   CustomerID   Genre   Age Group  Age  Annual Income (k$)  \\\n",
      "0           1    Male       Elder   46               21000   \n",
      "1           2    Male  Middle Age   60               76000   \n",
      "2           3  Female       Elder   23               40000   \n",
      "3           4  Female       Elder   73               46000   \n",
      "4           5    Male        Teen   65               57000   \n",
      "\n",
      "   Spending Score (1-100)  \n",
      "0                      33  \n",
      "1                      93  \n",
      "2                      93  \n",
      "3                      38  \n",
      "4                      22  \n"
     ]
    }
   ],
   "source": [
    "import pandas as pd\n",
    "import random\n",
    "\n",
    "# Number of rows in the dataset\n",
    "num_rows = 200\n",
    "\n",
    "# Generate random values for the dataset\n",
    "customer_ids = list(range(1, num_rows + 1))\n",
    "genres = [random.choice(['Male', 'Female']) for _ in range(num_rows)]\n",
    "age_groups = [random.choice(['Teen', 'Middle Age', 'Elder']) for _ in range(num_rows)]\n",
    "ages = [random.randint(18, 80) for _ in range(num_rows)]\n",
    "incomes = [random.randint(15, 150) * 1000 for _ in range(num_rows)]\n",
    "spending_scores = [random.randint(1, 100) for _ in range(num_rows)]\n",
    "\n",
    "# Create a DataFrame\n",
    "data = {\n",
    "    'CustomerID': customer_ids,\n",
    "    'Genre': genres,\n",
    "    'Age Group': age_groups,\n",
    "    'Age': ages,\n",
    "    'Annual Income (k$)': incomes,\n",
    "    'Spending Score (1-100)': spending_scores\n",
    "}\n",
    "\n",
    "df = pd.DataFrame(data)\n",
    "\n",
    "# Display the first few rows of the DataFrame\n",
    "print(df.head())\n"
   ]
  },
  {
   "cell_type": "code",
   "execution_count": 2,
   "outputs": [
    {
     "data": {
      "text/plain": "<bound method DataFrame.info of      CustomerID   Genre   Age Group  Age  Annual Income (k$)  \\\n0             1    Male       Elder   46               21000   \n1             2    Male  Middle Age   60               76000   \n2             3  Female       Elder   23               40000   \n3             4  Female       Elder   73               46000   \n4             5    Male        Teen   65               57000   \n..          ...     ...         ...  ...                 ...   \n195         196  Female       Elder   55               78000   \n196         197  Female        Teen   19              141000   \n197         198    Male  Middle Age   72              130000   \n198         199    Male  Middle Age   34               17000   \n199         200  Female  Middle Age   39              102000   \n\n     Spending Score (1-100)  \n0                        33  \n1                        93  \n2                        93  \n3                        38  \n4                        22  \n..                      ...  \n195                      96  \n196                      22  \n197                      38  \n198                      27  \n199                      35  \n\n[200 rows x 6 columns]>"
     },
     "execution_count": 2,
     "metadata": {},
     "output_type": "execute_result"
    }
   ],
   "source": [
    "df.info"
   ],
   "metadata": {
    "collapsed": false,
    "ExecuteTime": {
     "end_time": "2024-04-27T16:56:21.572348800Z",
     "start_time": "2024-04-27T16:56:21.483266400Z"
    }
   },
   "id": "eab820d1d71bd675"
  },
  {
   "cell_type": "code",
   "execution_count": 3,
   "outputs": [
    {
     "data": {
      "text/plain": "(200, 6)"
     },
     "execution_count": 3,
     "metadata": {},
     "output_type": "execute_result"
    }
   ],
   "source": [
    "df.shape"
   ],
   "metadata": {
    "collapsed": false,
    "ExecuteTime": {
     "end_time": "2024-04-27T16:56:45.755285700Z",
     "start_time": "2024-04-27T16:56:45.699544400Z"
    }
   },
   "id": "8e33a83b9116b1e9"
  },
  {
   "cell_type": "code",
   "execution_count": 4,
   "outputs": [
    {
     "data": {
      "text/plain": "       CustomerID         Age  Annual Income (k$)  Spending Score (1-100)\ncount  200.000000  200.000000          200.000000              200.000000\nmean   100.500000   48.570000        75825.000000               50.330000\nstd     57.879185   17.860855        38791.989732               29.589675\nmin      1.000000   18.000000        15000.000000                1.000000\n25%     50.750000   33.000000        40000.000000               23.750000\n50%    100.500000   47.000000        73500.000000               46.000000\n75%    150.250000   64.000000       109250.000000               79.250000\nmax    200.000000   80.000000       150000.000000              100.000000",
      "text/html": "<div>\n<style scoped>\n    .dataframe tbody tr th:only-of-type {\n        vertical-align: middle;\n    }\n\n    .dataframe tbody tr th {\n        vertical-align: top;\n    }\n\n    .dataframe thead th {\n        text-align: right;\n    }\n</style>\n<table border=\"1\" class=\"dataframe\">\n  <thead>\n    <tr style=\"text-align: right;\">\n      <th></th>\n      <th>CustomerID</th>\n      <th>Age</th>\n      <th>Annual Income (k$)</th>\n      <th>Spending Score (1-100)</th>\n    </tr>\n  </thead>\n  <tbody>\n    <tr>\n      <th>count</th>\n      <td>200.000000</td>\n      <td>200.000000</td>\n      <td>200.000000</td>\n      <td>200.000000</td>\n    </tr>\n    <tr>\n      <th>mean</th>\n      <td>100.500000</td>\n      <td>48.570000</td>\n      <td>75825.000000</td>\n      <td>50.330000</td>\n    </tr>\n    <tr>\n      <th>std</th>\n      <td>57.879185</td>\n      <td>17.860855</td>\n      <td>38791.989732</td>\n      <td>29.589675</td>\n    </tr>\n    <tr>\n      <th>min</th>\n      <td>1.000000</td>\n      <td>18.000000</td>\n      <td>15000.000000</td>\n      <td>1.000000</td>\n    </tr>\n    <tr>\n      <th>25%</th>\n      <td>50.750000</td>\n      <td>33.000000</td>\n      <td>40000.000000</td>\n      <td>23.750000</td>\n    </tr>\n    <tr>\n      <th>50%</th>\n      <td>100.500000</td>\n      <td>47.000000</td>\n      <td>73500.000000</td>\n      <td>46.000000</td>\n    </tr>\n    <tr>\n      <th>75%</th>\n      <td>150.250000</td>\n      <td>64.000000</td>\n      <td>109250.000000</td>\n      <td>79.250000</td>\n    </tr>\n    <tr>\n      <th>max</th>\n      <td>200.000000</td>\n      <td>80.000000</td>\n      <td>150000.000000</td>\n      <td>100.000000</td>\n    </tr>\n  </tbody>\n</table>\n</div>"
     },
     "execution_count": 4,
     "metadata": {},
     "output_type": "execute_result"
    }
   ],
   "source": [
    "df.describe()"
   ],
   "metadata": {
    "collapsed": false,
    "ExecuteTime": {
     "end_time": "2024-04-27T16:57:00.960056800Z",
     "start_time": "2024-04-27T16:57:00.766774900Z"
    }
   },
   "id": "74f72a58686d37c9"
  },
  {
   "cell_type": "code",
   "execution_count": 5,
   "outputs": [
    {
     "data": {
      "text/plain": "48.57"
     },
     "execution_count": 5,
     "metadata": {},
     "output_type": "execute_result"
    }
   ],
   "source": [
    "df.Age.mean()"
   ],
   "metadata": {
    "collapsed": false,
    "ExecuteTime": {
     "end_time": "2024-04-27T16:57:10.276216200Z",
     "start_time": "2024-04-27T16:57:10.203610200Z"
    }
   },
   "id": "e67da5ed7fd3a5ea"
  },
  {
   "cell_type": "code",
   "execution_count": 6,
   "outputs": [
    {
     "data": {
      "text/plain": "0    44\nName: Age, dtype: int64"
     },
     "execution_count": 6,
     "metadata": {},
     "output_type": "execute_result"
    }
   ],
   "source": [
    "df.Age.mode()"
   ],
   "metadata": {
    "collapsed": false,
    "ExecuteTime": {
     "end_time": "2024-04-27T16:57:16.968012400Z",
     "start_time": "2024-04-27T16:57:16.917216500Z"
    }
   },
   "id": "4ce8b69b67c51bba"
  },
  {
   "cell_type": "code",
   "execution_count": 7,
   "outputs": [
    {
     "data": {
      "text/plain": "47.0"
     },
     "execution_count": 7,
     "metadata": {},
     "output_type": "execute_result"
    }
   ],
   "source": [
    "df.Age.median()"
   ],
   "metadata": {
    "collapsed": false,
    "ExecuteTime": {
     "end_time": "2024-04-27T16:57:24.377792700Z",
     "start_time": "2024-04-27T16:57:24.314001900Z"
    }
   },
   "id": "6d2a45e936a933b1"
  },
  {
   "cell_type": "code",
   "execution_count": 8,
   "outputs": [
    {
     "data": {
      "text/plain": "     CustomerID  Genre  Age Group  Annual Income (k$)  Spending Score (1-100)\nAge                                                                          \n18            2      2          2                   2                       2\n19            5      5          5                   5                       5\n20            2      2          2                   2                       2\n21            4      4          4                   4                       4\n22            2      2          2                   2                       2\n..          ...    ...        ...                 ...                     ...\n76            4      4          4                   4                       4\n77            6      6          6                   6                       6\n78            2      2          2                   2                       2\n79            2      2          2                   2                       2\n80            1      1          1                   1                       1\n\n[62 rows x 5 columns]",
      "text/html": "<div>\n<style scoped>\n    .dataframe tbody tr th:only-of-type {\n        vertical-align: middle;\n    }\n\n    .dataframe tbody tr th {\n        vertical-align: top;\n    }\n\n    .dataframe thead th {\n        text-align: right;\n    }\n</style>\n<table border=\"1\" class=\"dataframe\">\n  <thead>\n    <tr style=\"text-align: right;\">\n      <th></th>\n      <th>CustomerID</th>\n      <th>Genre</th>\n      <th>Age Group</th>\n      <th>Annual Income (k$)</th>\n      <th>Spending Score (1-100)</th>\n    </tr>\n    <tr>\n      <th>Age</th>\n      <th></th>\n      <th></th>\n      <th></th>\n      <th></th>\n      <th></th>\n    </tr>\n  </thead>\n  <tbody>\n    <tr>\n      <th>18</th>\n      <td>2</td>\n      <td>2</td>\n      <td>2</td>\n      <td>2</td>\n      <td>2</td>\n    </tr>\n    <tr>\n      <th>19</th>\n      <td>5</td>\n      <td>5</td>\n      <td>5</td>\n      <td>5</td>\n      <td>5</td>\n    </tr>\n    <tr>\n      <th>20</th>\n      <td>2</td>\n      <td>2</td>\n      <td>2</td>\n      <td>2</td>\n      <td>2</td>\n    </tr>\n    <tr>\n      <th>21</th>\n      <td>4</td>\n      <td>4</td>\n      <td>4</td>\n      <td>4</td>\n      <td>4</td>\n    </tr>\n    <tr>\n      <th>22</th>\n      <td>2</td>\n      <td>2</td>\n      <td>2</td>\n      <td>2</td>\n      <td>2</td>\n    </tr>\n    <tr>\n      <th>...</th>\n      <td>...</td>\n      <td>...</td>\n      <td>...</td>\n      <td>...</td>\n      <td>...</td>\n    </tr>\n    <tr>\n      <th>76</th>\n      <td>4</td>\n      <td>4</td>\n      <td>4</td>\n      <td>4</td>\n      <td>4</td>\n    </tr>\n    <tr>\n      <th>77</th>\n      <td>6</td>\n      <td>6</td>\n      <td>6</td>\n      <td>6</td>\n      <td>6</td>\n    </tr>\n    <tr>\n      <th>78</th>\n      <td>2</td>\n      <td>2</td>\n      <td>2</td>\n      <td>2</td>\n      <td>2</td>\n    </tr>\n    <tr>\n      <th>79</th>\n      <td>2</td>\n      <td>2</td>\n      <td>2</td>\n      <td>2</td>\n      <td>2</td>\n    </tr>\n    <tr>\n      <th>80</th>\n      <td>1</td>\n      <td>1</td>\n      <td>1</td>\n      <td>1</td>\n      <td>1</td>\n    </tr>\n  </tbody>\n</table>\n<p>62 rows × 5 columns</p>\n</div>"
     },
     "execution_count": 8,
     "metadata": {},
     "output_type": "execute_result"
    }
   ],
   "source": [
    "df.groupby(['Age']).count()"
   ],
   "metadata": {
    "collapsed": false,
    "ExecuteTime": {
     "end_time": "2024-04-27T16:57:31.930271500Z",
     "start_time": "2024-04-27T16:57:31.806797300Z"
    }
   },
   "id": "dfe1ee4b8472d505"
  },
  {
   "cell_type": "code",
   "execution_count": 9,
   "outputs": [
    {
     "data": {
      "text/plain": "        CustomerID  Age Group  Age  Annual Income (k$)  Spending Score (1-100)\nGenre                                                                         \nFemale          98         98   98                  98                      98\nMale           102        102  102                 102                     102",
      "text/html": "<div>\n<style scoped>\n    .dataframe tbody tr th:only-of-type {\n        vertical-align: middle;\n    }\n\n    .dataframe tbody tr th {\n        vertical-align: top;\n    }\n\n    .dataframe thead th {\n        text-align: right;\n    }\n</style>\n<table border=\"1\" class=\"dataframe\">\n  <thead>\n    <tr style=\"text-align: right;\">\n      <th></th>\n      <th>CustomerID</th>\n      <th>Age Group</th>\n      <th>Age</th>\n      <th>Annual Income (k$)</th>\n      <th>Spending Score (1-100)</th>\n    </tr>\n    <tr>\n      <th>Genre</th>\n      <th></th>\n      <th></th>\n      <th></th>\n      <th></th>\n      <th></th>\n    </tr>\n  </thead>\n  <tbody>\n    <tr>\n      <th>Female</th>\n      <td>98</td>\n      <td>98</td>\n      <td>98</td>\n      <td>98</td>\n      <td>98</td>\n    </tr>\n    <tr>\n      <th>Male</th>\n      <td>102</td>\n      <td>102</td>\n      <td>102</td>\n      <td>102</td>\n      <td>102</td>\n    </tr>\n  </tbody>\n</table>\n</div>"
     },
     "execution_count": 9,
     "metadata": {},
     "output_type": "execute_result"
    }
   ],
   "source": [
    "df.groupby(['Genre']).count()"
   ],
   "metadata": {
    "collapsed": false,
    "ExecuteTime": {
     "end_time": "2024-04-27T16:57:55.499558200Z",
     "start_time": "2024-04-27T16:57:55.420639800Z"
    }
   },
   "id": "e3561dfd4ac6c7f6"
  },
  {
   "cell_type": "code",
   "execution_count": 10,
   "outputs": [
    {
     "data": {
      "text/plain": "17.86085526378199"
     },
     "execution_count": 10,
     "metadata": {},
     "output_type": "execute_result"
    }
   ],
   "source": [
    "df.Age.std()"
   ],
   "metadata": {
    "collapsed": false,
    "ExecuteTime": {
     "end_time": "2024-04-27T16:58:01.775525300Z",
     "start_time": "2024-04-27T16:58:01.686442900Z"
    }
   },
   "id": "a95ef1181a4384b5"
  },
  {
   "cell_type": "code",
   "execution_count": 11,
   "outputs": [
    {
     "data": {
      "text/plain": "Age                          48.57\nAnnual Income (k$)        75825.00\nSpending Score (1-100)       50.33\ndtype: float64"
     },
     "execution_count": 11,
     "metadata": {},
     "output_type": "execute_result"
    }
   ],
   "source": [
    "df[['Age' , 'Annual Income (k$)', 'Spending Score (1-100)']].mean()"
   ],
   "metadata": {
    "collapsed": false,
    "ExecuteTime": {
     "end_time": "2024-04-27T16:58:10.902399100Z",
     "start_time": "2024-04-27T16:58:10.737300Z"
    }
   },
   "id": "60e149b216728fb4"
  },
  {
   "cell_type": "code",
   "execution_count": 12,
   "outputs": [
    {
     "data": {
      "text/plain": "    Age  Annual Income (k$)  Spending Score (1-100)\n0  44.0             48000.0                      22\n1   NaN                 NaN                      23\n2   NaN                 NaN                      81\n3   NaN                 NaN                      95",
      "text/html": "<div>\n<style scoped>\n    .dataframe tbody tr th:only-of-type {\n        vertical-align: middle;\n    }\n\n    .dataframe tbody tr th {\n        vertical-align: top;\n    }\n\n    .dataframe thead th {\n        text-align: right;\n    }\n</style>\n<table border=\"1\" class=\"dataframe\">\n  <thead>\n    <tr style=\"text-align: right;\">\n      <th></th>\n      <th>Age</th>\n      <th>Annual Income (k$)</th>\n      <th>Spending Score (1-100)</th>\n    </tr>\n  </thead>\n  <tbody>\n    <tr>\n      <th>0</th>\n      <td>44.0</td>\n      <td>48000.0</td>\n      <td>22</td>\n    </tr>\n    <tr>\n      <th>1</th>\n      <td>NaN</td>\n      <td>NaN</td>\n      <td>23</td>\n    </tr>\n    <tr>\n      <th>2</th>\n      <td>NaN</td>\n      <td>NaN</td>\n      <td>81</td>\n    </tr>\n    <tr>\n      <th>3</th>\n      <td>NaN</td>\n      <td>NaN</td>\n      <td>95</td>\n    </tr>\n  </tbody>\n</table>\n</div>"
     },
     "execution_count": 12,
     "metadata": {},
     "output_type": "execute_result"
    }
   ],
   "source": [
    "df[['Age' , 'Annual Income (k$)', 'Spending Score (1-100)']].mode()"
   ],
   "metadata": {
    "collapsed": false,
    "ExecuteTime": {
     "end_time": "2024-04-27T16:58:18.530506400Z",
     "start_time": "2024-04-27T16:58:18.473128700Z"
    }
   },
   "id": "d75264ab72c1a711"
  },
  {
   "cell_type": "code",
   "execution_count": 13,
   "outputs": [
    {
     "data": {
      "text/plain": "Age                          47.0\nAnnual Income (k$)        73500.0\nSpending Score (1-100)       46.0\ndtype: float64"
     },
     "execution_count": 13,
     "metadata": {},
     "output_type": "execute_result"
    }
   ],
   "source": [
    "df[['Age' , 'Annual Income (k$)', 'Spending Score (1-100)']].median()"
   ],
   "metadata": {
    "collapsed": false,
    "ExecuteTime": {
     "end_time": "2024-04-27T16:58:35.687238700Z",
     "start_time": "2024-04-27T16:58:35.604686200Z"
    }
   },
   "id": "b14dc6894f255c81"
  },
  {
   "cell_type": "code",
   "execution_count": 14,
   "outputs": [
    {
     "data": {
      "text/plain": "Age                           80\nAnnual Income (k$)        150000\nSpending Score (1-100)       100\ndtype: int64"
     },
     "execution_count": 14,
     "metadata": {},
     "output_type": "execute_result"
    }
   ],
   "source": [
    "df[['Age' , 'Annual Income (k$)', 'Spending Score (1-100)']].max()"
   ],
   "metadata": {
    "collapsed": false,
    "ExecuteTime": {
     "end_time": "2024-04-27T16:59:00.158793500Z",
     "start_time": "2024-04-27T16:59:00.092864100Z"
    }
   },
   "id": "1ec161a4da280044"
  },
  {
   "cell_type": "code",
   "execution_count": 15,
   "outputs": [
    {
     "data": {
      "text/plain": "Age                          17.860855\nAnnual Income (k$)        38791.989732\nSpending Score (1-100)       29.589675\ndtype: float64"
     },
     "execution_count": 15,
     "metadata": {},
     "output_type": "execute_result"
    }
   ],
   "source": [
    "df[['Age' , 'Annual Income (k$)', 'Spending Score (1-100)']].std()"
   ],
   "metadata": {
    "collapsed": false,
    "ExecuteTime": {
     "end_time": "2024-04-27T16:59:08.761287100Z",
     "start_time": "2024-04-27T16:59:08.676831500Z"
    }
   },
   "id": "bfb599b69f235a5c"
  },
  {
   "cell_type": "code",
   "execution_count": 16,
   "outputs": [],
   "source": [
    "df2 = df.groupby('Genre')"
   ],
   "metadata": {
    "collapsed": false,
    "ExecuteTime": {
     "end_time": "2024-04-27T16:59:15.755324300Z",
     "start_time": "2024-04-27T16:59:15.680145900Z"
    }
   },
   "id": "80e8b970d93b7f06"
  },
  {
   "cell_type": "code",
   "execution_count": 17,
   "outputs": [
    {
     "data": {
      "text/plain": "     CustomerID   Genre   Age Group  Age  Annual Income (k$)  \\\n0             1    Male       Elder   46               21000   \n1             2    Male  Middle Age   60               76000   \n2             3  Female       Elder   23               40000   \n3             4  Female       Elder   73               46000   \n4             5    Male        Teen   65               57000   \n..          ...     ...         ...  ...                 ...   \n195         196  Female       Elder   55               78000   \n196         197  Female        Teen   19              141000   \n197         198    Male  Middle Age   72              130000   \n198         199    Male  Middle Age   34               17000   \n199         200  Female  Middle Age   39              102000   \n\n     Spending Score (1-100)  \n0                        33  \n1                        93  \n2                        93  \n3                        38  \n4                        22  \n..                      ...  \n195                      96  \n196                      22  \n197                      38  \n198                      27  \n199                      35  \n\n[200 rows x 6 columns]",
      "text/html": "<div>\n<style scoped>\n    .dataframe tbody tr th:only-of-type {\n        vertical-align: middle;\n    }\n\n    .dataframe tbody tr th {\n        vertical-align: top;\n    }\n\n    .dataframe thead th {\n        text-align: right;\n    }\n</style>\n<table border=\"1\" class=\"dataframe\">\n  <thead>\n    <tr style=\"text-align: right;\">\n      <th></th>\n      <th>CustomerID</th>\n      <th>Genre</th>\n      <th>Age Group</th>\n      <th>Age</th>\n      <th>Annual Income (k$)</th>\n      <th>Spending Score (1-100)</th>\n    </tr>\n  </thead>\n  <tbody>\n    <tr>\n      <th>0</th>\n      <td>1</td>\n      <td>Male</td>\n      <td>Elder</td>\n      <td>46</td>\n      <td>21000</td>\n      <td>33</td>\n    </tr>\n    <tr>\n      <th>1</th>\n      <td>2</td>\n      <td>Male</td>\n      <td>Middle Age</td>\n      <td>60</td>\n      <td>76000</td>\n      <td>93</td>\n    </tr>\n    <tr>\n      <th>2</th>\n      <td>3</td>\n      <td>Female</td>\n      <td>Elder</td>\n      <td>23</td>\n      <td>40000</td>\n      <td>93</td>\n    </tr>\n    <tr>\n      <th>3</th>\n      <td>4</td>\n      <td>Female</td>\n      <td>Elder</td>\n      <td>73</td>\n      <td>46000</td>\n      <td>38</td>\n    </tr>\n    <tr>\n      <th>4</th>\n      <td>5</td>\n      <td>Male</td>\n      <td>Teen</td>\n      <td>65</td>\n      <td>57000</td>\n      <td>22</td>\n    </tr>\n    <tr>\n      <th>...</th>\n      <td>...</td>\n      <td>...</td>\n      <td>...</td>\n      <td>...</td>\n      <td>...</td>\n      <td>...</td>\n    </tr>\n    <tr>\n      <th>195</th>\n      <td>196</td>\n      <td>Female</td>\n      <td>Elder</td>\n      <td>55</td>\n      <td>78000</td>\n      <td>96</td>\n    </tr>\n    <tr>\n      <th>196</th>\n      <td>197</td>\n      <td>Female</td>\n      <td>Teen</td>\n      <td>19</td>\n      <td>141000</td>\n      <td>22</td>\n    </tr>\n    <tr>\n      <th>197</th>\n      <td>198</td>\n      <td>Male</td>\n      <td>Middle Age</td>\n      <td>72</td>\n      <td>130000</td>\n      <td>38</td>\n    </tr>\n    <tr>\n      <th>198</th>\n      <td>199</td>\n      <td>Male</td>\n      <td>Middle Age</td>\n      <td>34</td>\n      <td>17000</td>\n      <td>27</td>\n    </tr>\n    <tr>\n      <th>199</th>\n      <td>200</td>\n      <td>Female</td>\n      <td>Middle Age</td>\n      <td>39</td>\n      <td>102000</td>\n      <td>35</td>\n    </tr>\n  </tbody>\n</table>\n<p>200 rows × 6 columns</p>\n</div>"
     },
     "execution_count": 17,
     "metadata": {},
     "output_type": "execute_result"
    }
   ],
   "source": [
    "df"
   ],
   "metadata": {
    "collapsed": false,
    "ExecuteTime": {
     "end_time": "2024-04-27T16:59:22.366051900Z",
     "start_time": "2024-04-27T16:59:22.290600600Z"
    }
   },
   "id": "4d2415f337062ed1"
  },
  {
   "cell_type": "code",
   "execution_count": 18,
   "outputs": [
    {
     "name": "stdout",
     "output_type": "stream",
     "text": [
      "Female\n",
      "     CustomerID   Genre   Age Group  Age  Annual Income (k$)  \\\n",
      "2             3  Female       Elder   23               40000   \n",
      "3             4  Female       Elder   73               46000   \n",
      "5             6  Female  Middle Age   41               29000   \n",
      "6             7  Female        Teen   44              119000   \n",
      "8             9  Female        Teen   22              100000   \n",
      "..          ...     ...         ...  ...                 ...   \n",
      "188         189  Female        Teen   47               48000   \n",
      "190         191  Female       Elder   69              108000   \n",
      "195         196  Female       Elder   55               78000   \n",
      "196         197  Female        Teen   19              141000   \n",
      "199         200  Female  Middle Age   39              102000   \n",
      "\n",
      "     Spending Score (1-100)  \n",
      "2                        93  \n",
      "3                        38  \n",
      "5                        86  \n",
      "6                        73  \n",
      "8                        88  \n",
      "..                      ...  \n",
      "188                       2  \n",
      "190                      83  \n",
      "195                      96  \n",
      "196                      22  \n",
      "199                      35  \n",
      "\n",
      "[98 rows x 6 columns]\n",
      "Male\n",
      "     CustomerID Genre   Age Group  Age  Annual Income (k$)  \\\n",
      "0             1  Male       Elder   46               21000   \n",
      "1             2  Male  Middle Age   60               76000   \n",
      "4             5  Male        Teen   65               57000   \n",
      "7             8  Male  Middle Age   26               49000   \n",
      "11           12  Male  Middle Age   42               49000   \n",
      "..          ...   ...         ...  ...                 ...   \n",
      "192         193  Male  Middle Age   52               75000   \n",
      "193         194  Male       Elder   41               48000   \n",
      "194         195  Male  Middle Age   46              133000   \n",
      "197         198  Male  Middle Age   72              130000   \n",
      "198         199  Male  Middle Age   34               17000   \n",
      "\n",
      "     Spending Score (1-100)  \n",
      "0                        33  \n",
      "1                        93  \n",
      "4                        22  \n",
      "7                        14  \n",
      "11                       43  \n",
      "..                      ...  \n",
      "192                      22  \n",
      "193                      97  \n",
      "194                      42  \n",
      "197                      38  \n",
      "198                      27  \n",
      "\n",
      "[102 rows x 6 columns]\n"
     ]
    }
   ],
   "source": [
    "for Genre, Genre_f in df2:\n",
    "    print(Genre)\n",
    "    print(Genre_f)"
   ],
   "metadata": {
    "collapsed": false,
    "ExecuteTime": {
     "end_time": "2024-04-27T16:59:31.056388Z",
     "start_time": "2024-04-27T16:59:30.985510100Z"
    }
   },
   "id": "d3cf9474081dea44"
  },
  {
   "cell_type": "code",
   "execution_count": 19,
   "outputs": [
    {
     "data": {
      "text/plain": "     CustomerID Genre   Age Group  Age  Annual Income (k$)  \\\n0             1  Male       Elder   46               21000   \n1             2  Male  Middle Age   60               76000   \n4             5  Male        Teen   65               57000   \n7             8  Male  Middle Age   26               49000   \n11           12  Male  Middle Age   42               49000   \n..          ...   ...         ...  ...                 ...   \n192         193  Male  Middle Age   52               75000   \n193         194  Male       Elder   41               48000   \n194         195  Male  Middle Age   46              133000   \n197         198  Male  Middle Age   72              130000   \n198         199  Male  Middle Age   34               17000   \n\n     Spending Score (1-100)  \n0                        33  \n1                        93  \n4                        22  \n7                        14  \n11                       43  \n..                      ...  \n192                      22  \n193                      97  \n194                      42  \n197                      38  \n198                      27  \n\n[102 rows x 6 columns]",
      "text/html": "<div>\n<style scoped>\n    .dataframe tbody tr th:only-of-type {\n        vertical-align: middle;\n    }\n\n    .dataframe tbody tr th {\n        vertical-align: top;\n    }\n\n    .dataframe thead th {\n        text-align: right;\n    }\n</style>\n<table border=\"1\" class=\"dataframe\">\n  <thead>\n    <tr style=\"text-align: right;\">\n      <th></th>\n      <th>CustomerID</th>\n      <th>Genre</th>\n      <th>Age Group</th>\n      <th>Age</th>\n      <th>Annual Income (k$)</th>\n      <th>Spending Score (1-100)</th>\n    </tr>\n  </thead>\n  <tbody>\n    <tr>\n      <th>0</th>\n      <td>1</td>\n      <td>Male</td>\n      <td>Elder</td>\n      <td>46</td>\n      <td>21000</td>\n      <td>33</td>\n    </tr>\n    <tr>\n      <th>1</th>\n      <td>2</td>\n      <td>Male</td>\n      <td>Middle Age</td>\n      <td>60</td>\n      <td>76000</td>\n      <td>93</td>\n    </tr>\n    <tr>\n      <th>4</th>\n      <td>5</td>\n      <td>Male</td>\n      <td>Teen</td>\n      <td>65</td>\n      <td>57000</td>\n      <td>22</td>\n    </tr>\n    <tr>\n      <th>7</th>\n      <td>8</td>\n      <td>Male</td>\n      <td>Middle Age</td>\n      <td>26</td>\n      <td>49000</td>\n      <td>14</td>\n    </tr>\n    <tr>\n      <th>11</th>\n      <td>12</td>\n      <td>Male</td>\n      <td>Middle Age</td>\n      <td>42</td>\n      <td>49000</td>\n      <td>43</td>\n    </tr>\n    <tr>\n      <th>...</th>\n      <td>...</td>\n      <td>...</td>\n      <td>...</td>\n      <td>...</td>\n      <td>...</td>\n      <td>...</td>\n    </tr>\n    <tr>\n      <th>192</th>\n      <td>193</td>\n      <td>Male</td>\n      <td>Middle Age</td>\n      <td>52</td>\n      <td>75000</td>\n      <td>22</td>\n    </tr>\n    <tr>\n      <th>193</th>\n      <td>194</td>\n      <td>Male</td>\n      <td>Elder</td>\n      <td>41</td>\n      <td>48000</td>\n      <td>97</td>\n    </tr>\n    <tr>\n      <th>194</th>\n      <td>195</td>\n      <td>Male</td>\n      <td>Middle Age</td>\n      <td>46</td>\n      <td>133000</td>\n      <td>42</td>\n    </tr>\n    <tr>\n      <th>197</th>\n      <td>198</td>\n      <td>Male</td>\n      <td>Middle Age</td>\n      <td>72</td>\n      <td>130000</td>\n      <td>38</td>\n    </tr>\n    <tr>\n      <th>198</th>\n      <td>199</td>\n      <td>Male</td>\n      <td>Middle Age</td>\n      <td>34</td>\n      <td>17000</td>\n      <td>27</td>\n    </tr>\n  </tbody>\n</table>\n<p>102 rows × 6 columns</p>\n</div>"
     },
     "execution_count": 19,
     "metadata": {},
     "output_type": "execute_result"
    }
   ],
   "source": [
    "df2.get_group('Male')"
   ],
   "metadata": {
    "collapsed": false,
    "ExecuteTime": {
     "end_time": "2024-04-27T16:59:49.340447Z",
     "start_time": "2024-04-27T16:59:49.270002400Z"
    }
   },
   "id": "50ced0cf0a680a12"
  },
  {
   "cell_type": "code",
   "execution_count": 20,
   "outputs": [
    {
     "data": {
      "text/plain": "     CustomerID   Genre   Age Group  Age  Annual Income (k$)  \\\n2             3  Female       Elder   23               40000   \n3             4  Female       Elder   73               46000   \n5             6  Female  Middle Age   41               29000   \n6             7  Female        Teen   44              119000   \n8             9  Female        Teen   22              100000   \n..          ...     ...         ...  ...                 ...   \n188         189  Female        Teen   47               48000   \n190         191  Female       Elder   69              108000   \n195         196  Female       Elder   55               78000   \n196         197  Female        Teen   19              141000   \n199         200  Female  Middle Age   39              102000   \n\n     Spending Score (1-100)  \n2                        93  \n3                        38  \n5                        86  \n6                        73  \n8                        88  \n..                      ...  \n188                       2  \n190                      83  \n195                      96  \n196                      22  \n199                      35  \n\n[98 rows x 6 columns]",
      "text/html": "<div>\n<style scoped>\n    .dataframe tbody tr th:only-of-type {\n        vertical-align: middle;\n    }\n\n    .dataframe tbody tr th {\n        vertical-align: top;\n    }\n\n    .dataframe thead th {\n        text-align: right;\n    }\n</style>\n<table border=\"1\" class=\"dataframe\">\n  <thead>\n    <tr style=\"text-align: right;\">\n      <th></th>\n      <th>CustomerID</th>\n      <th>Genre</th>\n      <th>Age Group</th>\n      <th>Age</th>\n      <th>Annual Income (k$)</th>\n      <th>Spending Score (1-100)</th>\n    </tr>\n  </thead>\n  <tbody>\n    <tr>\n      <th>2</th>\n      <td>3</td>\n      <td>Female</td>\n      <td>Elder</td>\n      <td>23</td>\n      <td>40000</td>\n      <td>93</td>\n    </tr>\n    <tr>\n      <th>3</th>\n      <td>4</td>\n      <td>Female</td>\n      <td>Elder</td>\n      <td>73</td>\n      <td>46000</td>\n      <td>38</td>\n    </tr>\n    <tr>\n      <th>5</th>\n      <td>6</td>\n      <td>Female</td>\n      <td>Middle Age</td>\n      <td>41</td>\n      <td>29000</td>\n      <td>86</td>\n    </tr>\n    <tr>\n      <th>6</th>\n      <td>7</td>\n      <td>Female</td>\n      <td>Teen</td>\n      <td>44</td>\n      <td>119000</td>\n      <td>73</td>\n    </tr>\n    <tr>\n      <th>8</th>\n      <td>9</td>\n      <td>Female</td>\n      <td>Teen</td>\n      <td>22</td>\n      <td>100000</td>\n      <td>88</td>\n    </tr>\n    <tr>\n      <th>...</th>\n      <td>...</td>\n      <td>...</td>\n      <td>...</td>\n      <td>...</td>\n      <td>...</td>\n      <td>...</td>\n    </tr>\n    <tr>\n      <th>188</th>\n      <td>189</td>\n      <td>Female</td>\n      <td>Teen</td>\n      <td>47</td>\n      <td>48000</td>\n      <td>2</td>\n    </tr>\n    <tr>\n      <th>190</th>\n      <td>191</td>\n      <td>Female</td>\n      <td>Elder</td>\n      <td>69</td>\n      <td>108000</td>\n      <td>83</td>\n    </tr>\n    <tr>\n      <th>195</th>\n      <td>196</td>\n      <td>Female</td>\n      <td>Elder</td>\n      <td>55</td>\n      <td>78000</td>\n      <td>96</td>\n    </tr>\n    <tr>\n      <th>196</th>\n      <td>197</td>\n      <td>Female</td>\n      <td>Teen</td>\n      <td>19</td>\n      <td>141000</td>\n      <td>22</td>\n    </tr>\n    <tr>\n      <th>199</th>\n      <td>200</td>\n      <td>Female</td>\n      <td>Middle Age</td>\n      <td>39</td>\n      <td>102000</td>\n      <td>35</td>\n    </tr>\n  </tbody>\n</table>\n<p>98 rows × 6 columns</p>\n</div>"
     },
     "execution_count": 20,
     "metadata": {},
     "output_type": "execute_result"
    }
   ],
   "source": [
    "df2.get_group('Female')"
   ],
   "metadata": {
    "collapsed": false,
    "ExecuteTime": {
     "end_time": "2024-04-27T16:59:56.521702500Z",
     "start_time": "2024-04-27T16:59:56.440394200Z"
    }
   },
   "id": "345f7a778101f97d"
  },
  {
   "cell_type": "code",
   "execution_count": 21,
   "outputs": [
    {
     "data": {
      "text/plain": "         Age  Annual Income (k$)  Spending Score (1-100)\nGenre                                                   \nFemale  45.5             78000.0                    58.5\nMale    51.5             71000.0                    39.0",
      "text/html": "<div>\n<style scoped>\n    .dataframe tbody tr th:only-of-type {\n        vertical-align: middle;\n    }\n\n    .dataframe tbody tr th {\n        vertical-align: top;\n    }\n\n    .dataframe thead th {\n        text-align: right;\n    }\n</style>\n<table border=\"1\" class=\"dataframe\">\n  <thead>\n    <tr style=\"text-align: right;\">\n      <th></th>\n      <th>Age</th>\n      <th>Annual Income (k$)</th>\n      <th>Spending Score (1-100)</th>\n    </tr>\n    <tr>\n      <th>Genre</th>\n      <th></th>\n      <th></th>\n      <th></th>\n    </tr>\n  </thead>\n  <tbody>\n    <tr>\n      <th>Female</th>\n      <td>45.5</td>\n      <td>78000.0</td>\n      <td>58.5</td>\n    </tr>\n    <tr>\n      <th>Male</th>\n      <td>51.5</td>\n      <td>71000.0</td>\n      <td>39.0</td>\n    </tr>\n  </tbody>\n</table>\n</div>"
     },
     "execution_count": 21,
     "metadata": {},
     "output_type": "execute_result"
    }
   ],
   "source": [
    "df2[['Age' , 'Annual Income (k$)', 'Spending Score (1-100)']].median()"
   ],
   "metadata": {
    "collapsed": false,
    "ExecuteTime": {
     "end_time": "2024-04-27T17:00:04.313286100Z",
     "start_time": "2024-04-27T17:00:04.224054900Z"
    }
   },
   "id": "ae52a9b2de59a13b"
  },
  {
   "cell_type": "code",
   "execution_count": 22,
   "outputs": [
    {
     "data": {
      "text/plain": "              Age  Annual Income (k$)  Spending Score (1-100)\nGenre                                                        \nFemale  46.816327        76979.591837               55.561224\nMale    50.254902        74715.686275               45.303922",
      "text/html": "<div>\n<style scoped>\n    .dataframe tbody tr th:only-of-type {\n        vertical-align: middle;\n    }\n\n    .dataframe tbody tr th {\n        vertical-align: top;\n    }\n\n    .dataframe thead th {\n        text-align: right;\n    }\n</style>\n<table border=\"1\" class=\"dataframe\">\n  <thead>\n    <tr style=\"text-align: right;\">\n      <th></th>\n      <th>Age</th>\n      <th>Annual Income (k$)</th>\n      <th>Spending Score (1-100)</th>\n    </tr>\n    <tr>\n      <th>Genre</th>\n      <th></th>\n      <th></th>\n      <th></th>\n    </tr>\n  </thead>\n  <tbody>\n    <tr>\n      <th>Female</th>\n      <td>46.816327</td>\n      <td>76979.591837</td>\n      <td>55.561224</td>\n    </tr>\n    <tr>\n      <th>Male</th>\n      <td>50.254902</td>\n      <td>74715.686275</td>\n      <td>45.303922</td>\n    </tr>\n  </tbody>\n</table>\n</div>"
     },
     "execution_count": 22,
     "metadata": {},
     "output_type": "execute_result"
    }
   ],
   "source": [
    "df2[['Age' , 'Annual Income (k$)', 'Spending Score (1-100)']].mean()"
   ],
   "metadata": {
    "collapsed": false,
    "ExecuteTime": {
     "end_time": "2024-04-27T17:00:13.034123500Z",
     "start_time": "2024-04-27T17:00:12.894545900Z"
    }
   },
   "id": "a36d925b72c82f87"
  },
  {
   "cell_type": "code",
   "execution_count": 23,
   "outputs": [
    {
     "data": {
      "text/plain": "        Age  Annual Income (k$)  Spending Score (1-100)\nGenre                                                  \nFemale   80              150000                     100\nMale     79              147000                     100",
      "text/html": "<div>\n<style scoped>\n    .dataframe tbody tr th:only-of-type {\n        vertical-align: middle;\n    }\n\n    .dataframe tbody tr th {\n        vertical-align: top;\n    }\n\n    .dataframe thead th {\n        text-align: right;\n    }\n</style>\n<table border=\"1\" class=\"dataframe\">\n  <thead>\n    <tr style=\"text-align: right;\">\n      <th></th>\n      <th>Age</th>\n      <th>Annual Income (k$)</th>\n      <th>Spending Score (1-100)</th>\n    </tr>\n    <tr>\n      <th>Genre</th>\n      <th></th>\n      <th></th>\n      <th></th>\n    </tr>\n  </thead>\n  <tbody>\n    <tr>\n      <th>Female</th>\n      <td>80</td>\n      <td>150000</td>\n      <td>100</td>\n    </tr>\n    <tr>\n      <th>Male</th>\n      <td>79</td>\n      <td>147000</td>\n      <td>100</td>\n    </tr>\n  </tbody>\n</table>\n</div>"
     },
     "execution_count": 23,
     "metadata": {},
     "output_type": "execute_result"
    }
   ],
   "source": [
    "df2[['Age' , 'Annual Income (k$)', 'Spending Score (1-100)']].max()"
   ],
   "metadata": {
    "collapsed": false,
    "ExecuteTime": {
     "end_time": "2024-04-27T17:00:20.074203600Z",
     "start_time": "2024-04-27T17:00:19.991308900Z"
    }
   },
   "id": "85950233bdd741c5"
  },
  {
   "cell_type": "code",
   "execution_count": 24,
   "outputs": [
    {
     "data": {
      "text/plain": "        Age  Annual Income (k$)  Spending Score (1-100)\nGenre                                                  \nFemale   18               15000                       1\nMale     18               16000                       2",
      "text/html": "<div>\n<style scoped>\n    .dataframe tbody tr th:only-of-type {\n        vertical-align: middle;\n    }\n\n    .dataframe tbody tr th {\n        vertical-align: top;\n    }\n\n    .dataframe thead th {\n        text-align: right;\n    }\n</style>\n<table border=\"1\" class=\"dataframe\">\n  <thead>\n    <tr style=\"text-align: right;\">\n      <th></th>\n      <th>Age</th>\n      <th>Annual Income (k$)</th>\n      <th>Spending Score (1-100)</th>\n    </tr>\n    <tr>\n      <th>Genre</th>\n      <th></th>\n      <th></th>\n      <th></th>\n    </tr>\n  </thead>\n  <tbody>\n    <tr>\n      <th>Female</th>\n      <td>18</td>\n      <td>15000</td>\n      <td>1</td>\n    </tr>\n    <tr>\n      <th>Male</th>\n      <td>18</td>\n      <td>16000</td>\n      <td>2</td>\n    </tr>\n  </tbody>\n</table>\n</div>"
     },
     "execution_count": 24,
     "metadata": {},
     "output_type": "execute_result"
    }
   ],
   "source": [
    "df2[['Age' , 'Annual Income (k$)', 'Spending Score (1-100)']].min()"
   ],
   "metadata": {
    "collapsed": false,
    "ExecuteTime": {
     "end_time": "2024-04-27T17:00:28.177094Z",
     "start_time": "2024-04-27T17:00:28.086003300Z"
    }
   },
   "id": "9ac01d2bccabfebc"
  },
  {
   "cell_type": "code",
   "execution_count": 25,
   "outputs": [
    {
     "data": {
      "text/plain": "              Age  Annual Income (k$)  Spending Score (1-100)\nGenre                                                        \nFemale  17.861060        37807.701062               30.603236\nMale    17.785124        39869.683128               27.812950",
      "text/html": "<div>\n<style scoped>\n    .dataframe tbody tr th:only-of-type {\n        vertical-align: middle;\n    }\n\n    .dataframe tbody tr th {\n        vertical-align: top;\n    }\n\n    .dataframe thead th {\n        text-align: right;\n    }\n</style>\n<table border=\"1\" class=\"dataframe\">\n  <thead>\n    <tr style=\"text-align: right;\">\n      <th></th>\n      <th>Age</th>\n      <th>Annual Income (k$)</th>\n      <th>Spending Score (1-100)</th>\n    </tr>\n    <tr>\n      <th>Genre</th>\n      <th></th>\n      <th></th>\n      <th></th>\n    </tr>\n  </thead>\n  <tbody>\n    <tr>\n      <th>Female</th>\n      <td>17.861060</td>\n      <td>37807.701062</td>\n      <td>30.603236</td>\n    </tr>\n    <tr>\n      <th>Male</th>\n      <td>17.785124</td>\n      <td>39869.683128</td>\n      <td>27.812950</td>\n    </tr>\n  </tbody>\n</table>\n</div>"
     },
     "execution_count": 25,
     "metadata": {},
     "output_type": "execute_result"
    }
   ],
   "source": [
    "df2[['Age' , 'Annual Income (k$)', 'Spending Score (1-100)']].std()"
   ],
   "metadata": {
    "collapsed": false,
    "ExecuteTime": {
     "end_time": "2024-04-27T17:00:36.243372100Z",
     "start_time": "2024-04-27T17:00:36.165380700Z"
    }
   },
   "id": "6ccecba21445db88"
  },
  {
   "cell_type": "code",
   "execution_count": 28,
   "outputs": [],
   "source": [
    "url = \"https://gist.githubusercontent.com/netj/8836201/raw/6f9306ad21398ea43cba4f7d537619d0e07d5ae3/iris.csv\""
   ],
   "metadata": {
    "collapsed": false,
    "ExecuteTime": {
     "end_time": "2024-04-27T17:02:49.731077800Z",
     "start_time": "2024-04-27T17:02:49.718844400Z"
    }
   },
   "id": "6abf88d1f531ac2f"
  },
  {
   "cell_type": "code",
   "execution_count": 29,
   "outputs": [],
   "source": [
    "df3 = pd.read_csv(url)"
   ],
   "metadata": {
    "collapsed": false,
    "ExecuteTime": {
     "end_time": "2024-04-27T17:03:01.059007700Z",
     "start_time": "2024-04-27T17:03:00.367899Z"
    }
   },
   "id": "f74cf380fb0275ef"
  },
  {
   "cell_type": "code",
   "execution_count": 30,
   "outputs": [
    {
     "data": {
      "text/plain": "     sepal.length  sepal.width  petal.length  petal.width    variety\n0             5.1          3.5           1.4          0.2     Setosa\n1             4.9          3.0           1.4          0.2     Setosa\n2             4.7          3.2           1.3          0.2     Setosa\n3             4.6          3.1           1.5          0.2     Setosa\n4             5.0          3.6           1.4          0.2     Setosa\n..            ...          ...           ...          ...        ...\n145           6.7          3.0           5.2          2.3  Virginica\n146           6.3          2.5           5.0          1.9  Virginica\n147           6.5          3.0           5.2          2.0  Virginica\n148           6.2          3.4           5.4          2.3  Virginica\n149           5.9          3.0           5.1          1.8  Virginica\n\n[150 rows x 5 columns]",
      "text/html": "<div>\n<style scoped>\n    .dataframe tbody tr th:only-of-type {\n        vertical-align: middle;\n    }\n\n    .dataframe tbody tr th {\n        vertical-align: top;\n    }\n\n    .dataframe thead th {\n        text-align: right;\n    }\n</style>\n<table border=\"1\" class=\"dataframe\">\n  <thead>\n    <tr style=\"text-align: right;\">\n      <th></th>\n      <th>sepal.length</th>\n      <th>sepal.width</th>\n      <th>petal.length</th>\n      <th>petal.width</th>\n      <th>variety</th>\n    </tr>\n  </thead>\n  <tbody>\n    <tr>\n      <th>0</th>\n      <td>5.1</td>\n      <td>3.5</td>\n      <td>1.4</td>\n      <td>0.2</td>\n      <td>Setosa</td>\n    </tr>\n    <tr>\n      <th>1</th>\n      <td>4.9</td>\n      <td>3.0</td>\n      <td>1.4</td>\n      <td>0.2</td>\n      <td>Setosa</td>\n    </tr>\n    <tr>\n      <th>2</th>\n      <td>4.7</td>\n      <td>3.2</td>\n      <td>1.3</td>\n      <td>0.2</td>\n      <td>Setosa</td>\n    </tr>\n    <tr>\n      <th>3</th>\n      <td>4.6</td>\n      <td>3.1</td>\n      <td>1.5</td>\n      <td>0.2</td>\n      <td>Setosa</td>\n    </tr>\n    <tr>\n      <th>4</th>\n      <td>5.0</td>\n      <td>3.6</td>\n      <td>1.4</td>\n      <td>0.2</td>\n      <td>Setosa</td>\n    </tr>\n    <tr>\n      <th>...</th>\n      <td>...</td>\n      <td>...</td>\n      <td>...</td>\n      <td>...</td>\n      <td>...</td>\n    </tr>\n    <tr>\n      <th>145</th>\n      <td>6.7</td>\n      <td>3.0</td>\n      <td>5.2</td>\n      <td>2.3</td>\n      <td>Virginica</td>\n    </tr>\n    <tr>\n      <th>146</th>\n      <td>6.3</td>\n      <td>2.5</td>\n      <td>5.0</td>\n      <td>1.9</td>\n      <td>Virginica</td>\n    </tr>\n    <tr>\n      <th>147</th>\n      <td>6.5</td>\n      <td>3.0</td>\n      <td>5.2</td>\n      <td>2.0</td>\n      <td>Virginica</td>\n    </tr>\n    <tr>\n      <th>148</th>\n      <td>6.2</td>\n      <td>3.4</td>\n      <td>5.4</td>\n      <td>2.3</td>\n      <td>Virginica</td>\n    </tr>\n    <tr>\n      <th>149</th>\n      <td>5.9</td>\n      <td>3.0</td>\n      <td>5.1</td>\n      <td>1.8</td>\n      <td>Virginica</td>\n    </tr>\n  </tbody>\n</table>\n<p>150 rows × 5 columns</p>\n</div>"
     },
     "execution_count": 30,
     "metadata": {},
     "output_type": "execute_result"
    }
   ],
   "source": [
    "df3\n"
   ],
   "metadata": {
    "collapsed": false,
    "ExecuteTime": {
     "end_time": "2024-04-27T17:03:06.063754800Z",
     "start_time": "2024-04-27T17:03:06.043492500Z"
    }
   },
   "id": "7916628b7c664f8a"
  },
  {
   "cell_type": "code",
   "execution_count": 31,
   "outputs": [],
   "source": [
    "df4 =df3.groupby(\"variety\")"
   ],
   "metadata": {
    "collapsed": false,
    "ExecuteTime": {
     "end_time": "2024-04-27T17:03:31.042805200Z",
     "start_time": "2024-04-27T17:03:30.951709800Z"
    }
   },
   "id": "bf71e00c4744ac4a"
  },
  {
   "cell_type": "code",
   "execution_count": 32,
   "outputs": [
    {
     "data": {
      "text/plain": "<pandas.core.groupby.generic.DataFrameGroupBy object at 0x0000016D066D8090>"
     },
     "execution_count": 32,
     "metadata": {},
     "output_type": "execute_result"
    }
   ],
   "source": [
    "df4"
   ],
   "metadata": {
    "collapsed": false,
    "ExecuteTime": {
     "end_time": "2024-04-27T17:03:38.783297700Z",
     "start_time": "2024-04-27T17:03:38.732906900Z"
    }
   },
   "id": "95903ea3fc873cec"
  },
  {
   "cell_type": "code",
   "execution_count": 34,
   "outputs": [
    {
     "data": {
      "text/plain": "    sepal.length  sepal.width  petal.length  petal.width variety\n0            5.1          3.5           1.4          0.2  Setosa\n1            4.9          3.0           1.4          0.2  Setosa\n2            4.7          3.2           1.3          0.2  Setosa\n3            4.6          3.1           1.5          0.2  Setosa\n4            5.0          3.6           1.4          0.2  Setosa\n5            5.4          3.9           1.7          0.4  Setosa\n6            4.6          3.4           1.4          0.3  Setosa\n7            5.0          3.4           1.5          0.2  Setosa\n8            4.4          2.9           1.4          0.2  Setosa\n9            4.9          3.1           1.5          0.1  Setosa\n10           5.4          3.7           1.5          0.2  Setosa\n11           4.8          3.4           1.6          0.2  Setosa\n12           4.8          3.0           1.4          0.1  Setosa\n13           4.3          3.0           1.1          0.1  Setosa\n14           5.8          4.0           1.2          0.2  Setosa\n15           5.7          4.4           1.5          0.4  Setosa\n16           5.4          3.9           1.3          0.4  Setosa\n17           5.1          3.5           1.4          0.3  Setosa\n18           5.7          3.8           1.7          0.3  Setosa\n19           5.1          3.8           1.5          0.3  Setosa\n20           5.4          3.4           1.7          0.2  Setosa\n21           5.1          3.7           1.5          0.4  Setosa\n22           4.6          3.6           1.0          0.2  Setosa\n23           5.1          3.3           1.7          0.5  Setosa\n24           4.8          3.4           1.9          0.2  Setosa\n25           5.0          3.0           1.6          0.2  Setosa\n26           5.0          3.4           1.6          0.4  Setosa\n27           5.2          3.5           1.5          0.2  Setosa\n28           5.2          3.4           1.4          0.2  Setosa\n29           4.7          3.2           1.6          0.2  Setosa\n30           4.8          3.1           1.6          0.2  Setosa\n31           5.4          3.4           1.5          0.4  Setosa\n32           5.2          4.1           1.5          0.1  Setosa\n33           5.5          4.2           1.4          0.2  Setosa\n34           4.9          3.1           1.5          0.2  Setosa\n35           5.0          3.2           1.2          0.2  Setosa\n36           5.5          3.5           1.3          0.2  Setosa\n37           4.9          3.6           1.4          0.1  Setosa\n38           4.4          3.0           1.3          0.2  Setosa\n39           5.1          3.4           1.5          0.2  Setosa\n40           5.0          3.5           1.3          0.3  Setosa\n41           4.5          2.3           1.3          0.3  Setosa\n42           4.4          3.2           1.3          0.2  Setosa\n43           5.0          3.5           1.6          0.6  Setosa\n44           5.1          3.8           1.9          0.4  Setosa\n45           4.8          3.0           1.4          0.3  Setosa\n46           5.1          3.8           1.6          0.2  Setosa\n47           4.6          3.2           1.4          0.2  Setosa\n48           5.3          3.7           1.5          0.2  Setosa\n49           5.0          3.3           1.4          0.2  Setosa",
      "text/html": "<div>\n<style scoped>\n    .dataframe tbody tr th:only-of-type {\n        vertical-align: middle;\n    }\n\n    .dataframe tbody tr th {\n        vertical-align: top;\n    }\n\n    .dataframe thead th {\n        text-align: right;\n    }\n</style>\n<table border=\"1\" class=\"dataframe\">\n  <thead>\n    <tr style=\"text-align: right;\">\n      <th></th>\n      <th>sepal.length</th>\n      <th>sepal.width</th>\n      <th>petal.length</th>\n      <th>petal.width</th>\n      <th>variety</th>\n    </tr>\n  </thead>\n  <tbody>\n    <tr>\n      <th>0</th>\n      <td>5.1</td>\n      <td>3.5</td>\n      <td>1.4</td>\n      <td>0.2</td>\n      <td>Setosa</td>\n    </tr>\n    <tr>\n      <th>1</th>\n      <td>4.9</td>\n      <td>3.0</td>\n      <td>1.4</td>\n      <td>0.2</td>\n      <td>Setosa</td>\n    </tr>\n    <tr>\n      <th>2</th>\n      <td>4.7</td>\n      <td>3.2</td>\n      <td>1.3</td>\n      <td>0.2</td>\n      <td>Setosa</td>\n    </tr>\n    <tr>\n      <th>3</th>\n      <td>4.6</td>\n      <td>3.1</td>\n      <td>1.5</td>\n      <td>0.2</td>\n      <td>Setosa</td>\n    </tr>\n    <tr>\n      <th>4</th>\n      <td>5.0</td>\n      <td>3.6</td>\n      <td>1.4</td>\n      <td>0.2</td>\n      <td>Setosa</td>\n    </tr>\n    <tr>\n      <th>5</th>\n      <td>5.4</td>\n      <td>3.9</td>\n      <td>1.7</td>\n      <td>0.4</td>\n      <td>Setosa</td>\n    </tr>\n    <tr>\n      <th>6</th>\n      <td>4.6</td>\n      <td>3.4</td>\n      <td>1.4</td>\n      <td>0.3</td>\n      <td>Setosa</td>\n    </tr>\n    <tr>\n      <th>7</th>\n      <td>5.0</td>\n      <td>3.4</td>\n      <td>1.5</td>\n      <td>0.2</td>\n      <td>Setosa</td>\n    </tr>\n    <tr>\n      <th>8</th>\n      <td>4.4</td>\n      <td>2.9</td>\n      <td>1.4</td>\n      <td>0.2</td>\n      <td>Setosa</td>\n    </tr>\n    <tr>\n      <th>9</th>\n      <td>4.9</td>\n      <td>3.1</td>\n      <td>1.5</td>\n      <td>0.1</td>\n      <td>Setosa</td>\n    </tr>\n    <tr>\n      <th>10</th>\n      <td>5.4</td>\n      <td>3.7</td>\n      <td>1.5</td>\n      <td>0.2</td>\n      <td>Setosa</td>\n    </tr>\n    <tr>\n      <th>11</th>\n      <td>4.8</td>\n      <td>3.4</td>\n      <td>1.6</td>\n      <td>0.2</td>\n      <td>Setosa</td>\n    </tr>\n    <tr>\n      <th>12</th>\n      <td>4.8</td>\n      <td>3.0</td>\n      <td>1.4</td>\n      <td>0.1</td>\n      <td>Setosa</td>\n    </tr>\n    <tr>\n      <th>13</th>\n      <td>4.3</td>\n      <td>3.0</td>\n      <td>1.1</td>\n      <td>0.1</td>\n      <td>Setosa</td>\n    </tr>\n    <tr>\n      <th>14</th>\n      <td>5.8</td>\n      <td>4.0</td>\n      <td>1.2</td>\n      <td>0.2</td>\n      <td>Setosa</td>\n    </tr>\n    <tr>\n      <th>15</th>\n      <td>5.7</td>\n      <td>4.4</td>\n      <td>1.5</td>\n      <td>0.4</td>\n      <td>Setosa</td>\n    </tr>\n    <tr>\n      <th>16</th>\n      <td>5.4</td>\n      <td>3.9</td>\n      <td>1.3</td>\n      <td>0.4</td>\n      <td>Setosa</td>\n    </tr>\n    <tr>\n      <th>17</th>\n      <td>5.1</td>\n      <td>3.5</td>\n      <td>1.4</td>\n      <td>0.3</td>\n      <td>Setosa</td>\n    </tr>\n    <tr>\n      <th>18</th>\n      <td>5.7</td>\n      <td>3.8</td>\n      <td>1.7</td>\n      <td>0.3</td>\n      <td>Setosa</td>\n    </tr>\n    <tr>\n      <th>19</th>\n      <td>5.1</td>\n      <td>3.8</td>\n      <td>1.5</td>\n      <td>0.3</td>\n      <td>Setosa</td>\n    </tr>\n    <tr>\n      <th>20</th>\n      <td>5.4</td>\n      <td>3.4</td>\n      <td>1.7</td>\n      <td>0.2</td>\n      <td>Setosa</td>\n    </tr>\n    <tr>\n      <th>21</th>\n      <td>5.1</td>\n      <td>3.7</td>\n      <td>1.5</td>\n      <td>0.4</td>\n      <td>Setosa</td>\n    </tr>\n    <tr>\n      <th>22</th>\n      <td>4.6</td>\n      <td>3.6</td>\n      <td>1.0</td>\n      <td>0.2</td>\n      <td>Setosa</td>\n    </tr>\n    <tr>\n      <th>23</th>\n      <td>5.1</td>\n      <td>3.3</td>\n      <td>1.7</td>\n      <td>0.5</td>\n      <td>Setosa</td>\n    </tr>\n    <tr>\n      <th>24</th>\n      <td>4.8</td>\n      <td>3.4</td>\n      <td>1.9</td>\n      <td>0.2</td>\n      <td>Setosa</td>\n    </tr>\n    <tr>\n      <th>25</th>\n      <td>5.0</td>\n      <td>3.0</td>\n      <td>1.6</td>\n      <td>0.2</td>\n      <td>Setosa</td>\n    </tr>\n    <tr>\n      <th>26</th>\n      <td>5.0</td>\n      <td>3.4</td>\n      <td>1.6</td>\n      <td>0.4</td>\n      <td>Setosa</td>\n    </tr>\n    <tr>\n      <th>27</th>\n      <td>5.2</td>\n      <td>3.5</td>\n      <td>1.5</td>\n      <td>0.2</td>\n      <td>Setosa</td>\n    </tr>\n    <tr>\n      <th>28</th>\n      <td>5.2</td>\n      <td>3.4</td>\n      <td>1.4</td>\n      <td>0.2</td>\n      <td>Setosa</td>\n    </tr>\n    <tr>\n      <th>29</th>\n      <td>4.7</td>\n      <td>3.2</td>\n      <td>1.6</td>\n      <td>0.2</td>\n      <td>Setosa</td>\n    </tr>\n    <tr>\n      <th>30</th>\n      <td>4.8</td>\n      <td>3.1</td>\n      <td>1.6</td>\n      <td>0.2</td>\n      <td>Setosa</td>\n    </tr>\n    <tr>\n      <th>31</th>\n      <td>5.4</td>\n      <td>3.4</td>\n      <td>1.5</td>\n      <td>0.4</td>\n      <td>Setosa</td>\n    </tr>\n    <tr>\n      <th>32</th>\n      <td>5.2</td>\n      <td>4.1</td>\n      <td>1.5</td>\n      <td>0.1</td>\n      <td>Setosa</td>\n    </tr>\n    <tr>\n      <th>33</th>\n      <td>5.5</td>\n      <td>4.2</td>\n      <td>1.4</td>\n      <td>0.2</td>\n      <td>Setosa</td>\n    </tr>\n    <tr>\n      <th>34</th>\n      <td>4.9</td>\n      <td>3.1</td>\n      <td>1.5</td>\n      <td>0.2</td>\n      <td>Setosa</td>\n    </tr>\n    <tr>\n      <th>35</th>\n      <td>5.0</td>\n      <td>3.2</td>\n      <td>1.2</td>\n      <td>0.2</td>\n      <td>Setosa</td>\n    </tr>\n    <tr>\n      <th>36</th>\n      <td>5.5</td>\n      <td>3.5</td>\n      <td>1.3</td>\n      <td>0.2</td>\n      <td>Setosa</td>\n    </tr>\n    <tr>\n      <th>37</th>\n      <td>4.9</td>\n      <td>3.6</td>\n      <td>1.4</td>\n      <td>0.1</td>\n      <td>Setosa</td>\n    </tr>\n    <tr>\n      <th>38</th>\n      <td>4.4</td>\n      <td>3.0</td>\n      <td>1.3</td>\n      <td>0.2</td>\n      <td>Setosa</td>\n    </tr>\n    <tr>\n      <th>39</th>\n      <td>5.1</td>\n      <td>3.4</td>\n      <td>1.5</td>\n      <td>0.2</td>\n      <td>Setosa</td>\n    </tr>\n    <tr>\n      <th>40</th>\n      <td>5.0</td>\n      <td>3.5</td>\n      <td>1.3</td>\n      <td>0.3</td>\n      <td>Setosa</td>\n    </tr>\n    <tr>\n      <th>41</th>\n      <td>4.5</td>\n      <td>2.3</td>\n      <td>1.3</td>\n      <td>0.3</td>\n      <td>Setosa</td>\n    </tr>\n    <tr>\n      <th>42</th>\n      <td>4.4</td>\n      <td>3.2</td>\n      <td>1.3</td>\n      <td>0.2</td>\n      <td>Setosa</td>\n    </tr>\n    <tr>\n      <th>43</th>\n      <td>5.0</td>\n      <td>3.5</td>\n      <td>1.6</td>\n      <td>0.6</td>\n      <td>Setosa</td>\n    </tr>\n    <tr>\n      <th>44</th>\n      <td>5.1</td>\n      <td>3.8</td>\n      <td>1.9</td>\n      <td>0.4</td>\n      <td>Setosa</td>\n    </tr>\n    <tr>\n      <th>45</th>\n      <td>4.8</td>\n      <td>3.0</td>\n      <td>1.4</td>\n      <td>0.3</td>\n      <td>Setosa</td>\n    </tr>\n    <tr>\n      <th>46</th>\n      <td>5.1</td>\n      <td>3.8</td>\n      <td>1.6</td>\n      <td>0.2</td>\n      <td>Setosa</td>\n    </tr>\n    <tr>\n      <th>47</th>\n      <td>4.6</td>\n      <td>3.2</td>\n      <td>1.4</td>\n      <td>0.2</td>\n      <td>Setosa</td>\n    </tr>\n    <tr>\n      <th>48</th>\n      <td>5.3</td>\n      <td>3.7</td>\n      <td>1.5</td>\n      <td>0.2</td>\n      <td>Setosa</td>\n    </tr>\n    <tr>\n      <th>49</th>\n      <td>5.0</td>\n      <td>3.3</td>\n      <td>1.4</td>\n      <td>0.2</td>\n      <td>Setosa</td>\n    </tr>\n  </tbody>\n</table>\n</div>"
     },
     "execution_count": 34,
     "metadata": {},
     "output_type": "execute_result"
    }
   ],
   "source": [
    " df4.get_group(\"Setosa\")"
   ],
   "metadata": {
    "collapsed": false,
    "ExecuteTime": {
     "end_time": "2024-04-27T17:04:26.041603900Z",
     "start_time": "2024-04-27T17:04:25.915337500Z"
    }
   },
   "id": "54e45db132c5da19"
  },
  {
   "cell_type": "code",
   "execution_count": 35,
   "outputs": [
    {
     "data": {
      "text/plain": "     sepal.length  sepal.width  petal.length  petal.width    variety\n100           6.3          3.3           6.0          2.5  Virginica\n101           5.8          2.7           5.1          1.9  Virginica\n102           7.1          3.0           5.9          2.1  Virginica\n103           6.3          2.9           5.6          1.8  Virginica\n104           6.5          3.0           5.8          2.2  Virginica\n105           7.6          3.0           6.6          2.1  Virginica\n106           4.9          2.5           4.5          1.7  Virginica\n107           7.3          2.9           6.3          1.8  Virginica\n108           6.7          2.5           5.8          1.8  Virginica\n109           7.2          3.6           6.1          2.5  Virginica\n110           6.5          3.2           5.1          2.0  Virginica\n111           6.4          2.7           5.3          1.9  Virginica\n112           6.8          3.0           5.5          2.1  Virginica\n113           5.7          2.5           5.0          2.0  Virginica\n114           5.8          2.8           5.1          2.4  Virginica\n115           6.4          3.2           5.3          2.3  Virginica\n116           6.5          3.0           5.5          1.8  Virginica\n117           7.7          3.8           6.7          2.2  Virginica\n118           7.7          2.6           6.9          2.3  Virginica\n119           6.0          2.2           5.0          1.5  Virginica\n120           6.9          3.2           5.7          2.3  Virginica\n121           5.6          2.8           4.9          2.0  Virginica\n122           7.7          2.8           6.7          2.0  Virginica\n123           6.3          2.7           4.9          1.8  Virginica\n124           6.7          3.3           5.7          2.1  Virginica\n125           7.2          3.2           6.0          1.8  Virginica\n126           6.2          2.8           4.8          1.8  Virginica\n127           6.1          3.0           4.9          1.8  Virginica\n128           6.4          2.8           5.6          2.1  Virginica\n129           7.2          3.0           5.8          1.6  Virginica\n130           7.4          2.8           6.1          1.9  Virginica\n131           7.9          3.8           6.4          2.0  Virginica\n132           6.4          2.8           5.6          2.2  Virginica\n133           6.3          2.8           5.1          1.5  Virginica\n134           6.1          2.6           5.6          1.4  Virginica\n135           7.7          3.0           6.1          2.3  Virginica\n136           6.3          3.4           5.6          2.4  Virginica\n137           6.4          3.1           5.5          1.8  Virginica\n138           6.0          3.0           4.8          1.8  Virginica\n139           6.9          3.1           5.4          2.1  Virginica\n140           6.7          3.1           5.6          2.4  Virginica\n141           6.9          3.1           5.1          2.3  Virginica\n142           5.8          2.7           5.1          1.9  Virginica\n143           6.8          3.2           5.9          2.3  Virginica\n144           6.7          3.3           5.7          2.5  Virginica\n145           6.7          3.0           5.2          2.3  Virginica\n146           6.3          2.5           5.0          1.9  Virginica\n147           6.5          3.0           5.2          2.0  Virginica\n148           6.2          3.4           5.4          2.3  Virginica\n149           5.9          3.0           5.1          1.8  Virginica",
      "text/html": "<div>\n<style scoped>\n    .dataframe tbody tr th:only-of-type {\n        vertical-align: middle;\n    }\n\n    .dataframe tbody tr th {\n        vertical-align: top;\n    }\n\n    .dataframe thead th {\n        text-align: right;\n    }\n</style>\n<table border=\"1\" class=\"dataframe\">\n  <thead>\n    <tr style=\"text-align: right;\">\n      <th></th>\n      <th>sepal.length</th>\n      <th>sepal.width</th>\n      <th>petal.length</th>\n      <th>petal.width</th>\n      <th>variety</th>\n    </tr>\n  </thead>\n  <tbody>\n    <tr>\n      <th>100</th>\n      <td>6.3</td>\n      <td>3.3</td>\n      <td>6.0</td>\n      <td>2.5</td>\n      <td>Virginica</td>\n    </tr>\n    <tr>\n      <th>101</th>\n      <td>5.8</td>\n      <td>2.7</td>\n      <td>5.1</td>\n      <td>1.9</td>\n      <td>Virginica</td>\n    </tr>\n    <tr>\n      <th>102</th>\n      <td>7.1</td>\n      <td>3.0</td>\n      <td>5.9</td>\n      <td>2.1</td>\n      <td>Virginica</td>\n    </tr>\n    <tr>\n      <th>103</th>\n      <td>6.3</td>\n      <td>2.9</td>\n      <td>5.6</td>\n      <td>1.8</td>\n      <td>Virginica</td>\n    </tr>\n    <tr>\n      <th>104</th>\n      <td>6.5</td>\n      <td>3.0</td>\n      <td>5.8</td>\n      <td>2.2</td>\n      <td>Virginica</td>\n    </tr>\n    <tr>\n      <th>105</th>\n      <td>7.6</td>\n      <td>3.0</td>\n      <td>6.6</td>\n      <td>2.1</td>\n      <td>Virginica</td>\n    </tr>\n    <tr>\n      <th>106</th>\n      <td>4.9</td>\n      <td>2.5</td>\n      <td>4.5</td>\n      <td>1.7</td>\n      <td>Virginica</td>\n    </tr>\n    <tr>\n      <th>107</th>\n      <td>7.3</td>\n      <td>2.9</td>\n      <td>6.3</td>\n      <td>1.8</td>\n      <td>Virginica</td>\n    </tr>\n    <tr>\n      <th>108</th>\n      <td>6.7</td>\n      <td>2.5</td>\n      <td>5.8</td>\n      <td>1.8</td>\n      <td>Virginica</td>\n    </tr>\n    <tr>\n      <th>109</th>\n      <td>7.2</td>\n      <td>3.6</td>\n      <td>6.1</td>\n      <td>2.5</td>\n      <td>Virginica</td>\n    </tr>\n    <tr>\n      <th>110</th>\n      <td>6.5</td>\n      <td>3.2</td>\n      <td>5.1</td>\n      <td>2.0</td>\n      <td>Virginica</td>\n    </tr>\n    <tr>\n      <th>111</th>\n      <td>6.4</td>\n      <td>2.7</td>\n      <td>5.3</td>\n      <td>1.9</td>\n      <td>Virginica</td>\n    </tr>\n    <tr>\n      <th>112</th>\n      <td>6.8</td>\n      <td>3.0</td>\n      <td>5.5</td>\n      <td>2.1</td>\n      <td>Virginica</td>\n    </tr>\n    <tr>\n      <th>113</th>\n      <td>5.7</td>\n      <td>2.5</td>\n      <td>5.0</td>\n      <td>2.0</td>\n      <td>Virginica</td>\n    </tr>\n    <tr>\n      <th>114</th>\n      <td>5.8</td>\n      <td>2.8</td>\n      <td>5.1</td>\n      <td>2.4</td>\n      <td>Virginica</td>\n    </tr>\n    <tr>\n      <th>115</th>\n      <td>6.4</td>\n      <td>3.2</td>\n      <td>5.3</td>\n      <td>2.3</td>\n      <td>Virginica</td>\n    </tr>\n    <tr>\n      <th>116</th>\n      <td>6.5</td>\n      <td>3.0</td>\n      <td>5.5</td>\n      <td>1.8</td>\n      <td>Virginica</td>\n    </tr>\n    <tr>\n      <th>117</th>\n      <td>7.7</td>\n      <td>3.8</td>\n      <td>6.7</td>\n      <td>2.2</td>\n      <td>Virginica</td>\n    </tr>\n    <tr>\n      <th>118</th>\n      <td>7.7</td>\n      <td>2.6</td>\n      <td>6.9</td>\n      <td>2.3</td>\n      <td>Virginica</td>\n    </tr>\n    <tr>\n      <th>119</th>\n      <td>6.0</td>\n      <td>2.2</td>\n      <td>5.0</td>\n      <td>1.5</td>\n      <td>Virginica</td>\n    </tr>\n    <tr>\n      <th>120</th>\n      <td>6.9</td>\n      <td>3.2</td>\n      <td>5.7</td>\n      <td>2.3</td>\n      <td>Virginica</td>\n    </tr>\n    <tr>\n      <th>121</th>\n      <td>5.6</td>\n      <td>2.8</td>\n      <td>4.9</td>\n      <td>2.0</td>\n      <td>Virginica</td>\n    </tr>\n    <tr>\n      <th>122</th>\n      <td>7.7</td>\n      <td>2.8</td>\n      <td>6.7</td>\n      <td>2.0</td>\n      <td>Virginica</td>\n    </tr>\n    <tr>\n      <th>123</th>\n      <td>6.3</td>\n      <td>2.7</td>\n      <td>4.9</td>\n      <td>1.8</td>\n      <td>Virginica</td>\n    </tr>\n    <tr>\n      <th>124</th>\n      <td>6.7</td>\n      <td>3.3</td>\n      <td>5.7</td>\n      <td>2.1</td>\n      <td>Virginica</td>\n    </tr>\n    <tr>\n      <th>125</th>\n      <td>7.2</td>\n      <td>3.2</td>\n      <td>6.0</td>\n      <td>1.8</td>\n      <td>Virginica</td>\n    </tr>\n    <tr>\n      <th>126</th>\n      <td>6.2</td>\n      <td>2.8</td>\n      <td>4.8</td>\n      <td>1.8</td>\n      <td>Virginica</td>\n    </tr>\n    <tr>\n      <th>127</th>\n      <td>6.1</td>\n      <td>3.0</td>\n      <td>4.9</td>\n      <td>1.8</td>\n      <td>Virginica</td>\n    </tr>\n    <tr>\n      <th>128</th>\n      <td>6.4</td>\n      <td>2.8</td>\n      <td>5.6</td>\n      <td>2.1</td>\n      <td>Virginica</td>\n    </tr>\n    <tr>\n      <th>129</th>\n      <td>7.2</td>\n      <td>3.0</td>\n      <td>5.8</td>\n      <td>1.6</td>\n      <td>Virginica</td>\n    </tr>\n    <tr>\n      <th>130</th>\n      <td>7.4</td>\n      <td>2.8</td>\n      <td>6.1</td>\n      <td>1.9</td>\n      <td>Virginica</td>\n    </tr>\n    <tr>\n      <th>131</th>\n      <td>7.9</td>\n      <td>3.8</td>\n      <td>6.4</td>\n      <td>2.0</td>\n      <td>Virginica</td>\n    </tr>\n    <tr>\n      <th>132</th>\n      <td>6.4</td>\n      <td>2.8</td>\n      <td>5.6</td>\n      <td>2.2</td>\n      <td>Virginica</td>\n    </tr>\n    <tr>\n      <th>133</th>\n      <td>6.3</td>\n      <td>2.8</td>\n      <td>5.1</td>\n      <td>1.5</td>\n      <td>Virginica</td>\n    </tr>\n    <tr>\n      <th>134</th>\n      <td>6.1</td>\n      <td>2.6</td>\n      <td>5.6</td>\n      <td>1.4</td>\n      <td>Virginica</td>\n    </tr>\n    <tr>\n      <th>135</th>\n      <td>7.7</td>\n      <td>3.0</td>\n      <td>6.1</td>\n      <td>2.3</td>\n      <td>Virginica</td>\n    </tr>\n    <tr>\n      <th>136</th>\n      <td>6.3</td>\n      <td>3.4</td>\n      <td>5.6</td>\n      <td>2.4</td>\n      <td>Virginica</td>\n    </tr>\n    <tr>\n      <th>137</th>\n      <td>6.4</td>\n      <td>3.1</td>\n      <td>5.5</td>\n      <td>1.8</td>\n      <td>Virginica</td>\n    </tr>\n    <tr>\n      <th>138</th>\n      <td>6.0</td>\n      <td>3.0</td>\n      <td>4.8</td>\n      <td>1.8</td>\n      <td>Virginica</td>\n    </tr>\n    <tr>\n      <th>139</th>\n      <td>6.9</td>\n      <td>3.1</td>\n      <td>5.4</td>\n      <td>2.1</td>\n      <td>Virginica</td>\n    </tr>\n    <tr>\n      <th>140</th>\n      <td>6.7</td>\n      <td>3.1</td>\n      <td>5.6</td>\n      <td>2.4</td>\n      <td>Virginica</td>\n    </tr>\n    <tr>\n      <th>141</th>\n      <td>6.9</td>\n      <td>3.1</td>\n      <td>5.1</td>\n      <td>2.3</td>\n      <td>Virginica</td>\n    </tr>\n    <tr>\n      <th>142</th>\n      <td>5.8</td>\n      <td>2.7</td>\n      <td>5.1</td>\n      <td>1.9</td>\n      <td>Virginica</td>\n    </tr>\n    <tr>\n      <th>143</th>\n      <td>6.8</td>\n      <td>3.2</td>\n      <td>5.9</td>\n      <td>2.3</td>\n      <td>Virginica</td>\n    </tr>\n    <tr>\n      <th>144</th>\n      <td>6.7</td>\n      <td>3.3</td>\n      <td>5.7</td>\n      <td>2.5</td>\n      <td>Virginica</td>\n    </tr>\n    <tr>\n      <th>145</th>\n      <td>6.7</td>\n      <td>3.0</td>\n      <td>5.2</td>\n      <td>2.3</td>\n      <td>Virginica</td>\n    </tr>\n    <tr>\n      <th>146</th>\n      <td>6.3</td>\n      <td>2.5</td>\n      <td>5.0</td>\n      <td>1.9</td>\n      <td>Virginica</td>\n    </tr>\n    <tr>\n      <th>147</th>\n      <td>6.5</td>\n      <td>3.0</td>\n      <td>5.2</td>\n      <td>2.0</td>\n      <td>Virginica</td>\n    </tr>\n    <tr>\n      <th>148</th>\n      <td>6.2</td>\n      <td>3.4</td>\n      <td>5.4</td>\n      <td>2.3</td>\n      <td>Virginica</td>\n    </tr>\n    <tr>\n      <th>149</th>\n      <td>5.9</td>\n      <td>3.0</td>\n      <td>5.1</td>\n      <td>1.8</td>\n      <td>Virginica</td>\n    </tr>\n  </tbody>\n</table>\n</div>"
     },
     "execution_count": 35,
     "metadata": {},
     "output_type": "execute_result"
    }
   ],
   "source": [
    " df4.get_group(\"Virginica\")"
   ],
   "metadata": {
    "collapsed": false,
    "ExecuteTime": {
     "end_time": "2024-04-27T17:04:41.763209800Z",
     "start_time": "2024-04-27T17:04:41.634300400Z"
    }
   },
   "id": "5d0814b21dd9250c"
  },
  {
   "cell_type": "code",
   "execution_count": 37,
   "outputs": [
    {
     "data": {
      "text/plain": "            sepal.length  sepal.width  petal.length  petal.width\nvariety                                                         \nSetosa             5.006        3.428         1.462        0.246\nVersicolor         5.936        2.770         4.260        1.326\nVirginica          6.588        2.974         5.552        2.026",
      "text/html": "<div>\n<style scoped>\n    .dataframe tbody tr th:only-of-type {\n        vertical-align: middle;\n    }\n\n    .dataframe tbody tr th {\n        vertical-align: top;\n    }\n\n    .dataframe thead th {\n        text-align: right;\n    }\n</style>\n<table border=\"1\" class=\"dataframe\">\n  <thead>\n    <tr style=\"text-align: right;\">\n      <th></th>\n      <th>sepal.length</th>\n      <th>sepal.width</th>\n      <th>petal.length</th>\n      <th>petal.width</th>\n    </tr>\n    <tr>\n      <th>variety</th>\n      <th></th>\n      <th></th>\n      <th></th>\n      <th></th>\n    </tr>\n  </thead>\n  <tbody>\n    <tr>\n      <th>Setosa</th>\n      <td>5.006</td>\n      <td>3.428</td>\n      <td>1.462</td>\n      <td>0.246</td>\n    </tr>\n    <tr>\n      <th>Versicolor</th>\n      <td>5.936</td>\n      <td>2.770</td>\n      <td>4.260</td>\n      <td>1.326</td>\n    </tr>\n    <tr>\n      <th>Virginica</th>\n      <td>6.588</td>\n      <td>2.974</td>\n      <td>5.552</td>\n      <td>2.026</td>\n    </tr>\n  </tbody>\n</table>\n</div>"
     },
     "execution_count": 37,
     "metadata": {},
     "output_type": "execute_result"
    }
   ],
   "source": [
    "df4.mean()"
   ],
   "metadata": {
    "collapsed": false,
    "ExecuteTime": {
     "end_time": "2024-04-27T17:05:12.622720700Z",
     "start_time": "2024-04-27T17:05:12.561694400Z"
    }
   },
   "id": "1d8c0b0106c4d48d"
  },
  {
   "cell_type": "code",
   "execution_count": 38,
   "outputs": [
    {
     "data": {
      "text/plain": "            sepal.length  sepal.width  petal.length  petal.width\nvariety                                                         \nSetosa               5.0          3.4          1.50          0.2\nVersicolor           5.9          2.8          4.35          1.3\nVirginica            6.5          3.0          5.55          2.0",
      "text/html": "<div>\n<style scoped>\n    .dataframe tbody tr th:only-of-type {\n        vertical-align: middle;\n    }\n\n    .dataframe tbody tr th {\n        vertical-align: top;\n    }\n\n    .dataframe thead th {\n        text-align: right;\n    }\n</style>\n<table border=\"1\" class=\"dataframe\">\n  <thead>\n    <tr style=\"text-align: right;\">\n      <th></th>\n      <th>sepal.length</th>\n      <th>sepal.width</th>\n      <th>petal.length</th>\n      <th>petal.width</th>\n    </tr>\n    <tr>\n      <th>variety</th>\n      <th></th>\n      <th></th>\n      <th></th>\n      <th></th>\n    </tr>\n  </thead>\n  <tbody>\n    <tr>\n      <th>Setosa</th>\n      <td>5.0</td>\n      <td>3.4</td>\n      <td>1.50</td>\n      <td>0.2</td>\n    </tr>\n    <tr>\n      <th>Versicolor</th>\n      <td>5.9</td>\n      <td>2.8</td>\n      <td>4.35</td>\n      <td>1.3</td>\n    </tr>\n    <tr>\n      <th>Virginica</th>\n      <td>6.5</td>\n      <td>3.0</td>\n      <td>5.55</td>\n      <td>2.0</td>\n    </tr>\n  </tbody>\n</table>\n</div>"
     },
     "execution_count": 38,
     "metadata": {},
     "output_type": "execute_result"
    }
   ],
   "source": [
    "df4.median()"
   ],
   "metadata": {
    "collapsed": false,
    "ExecuteTime": {
     "end_time": "2024-04-27T17:05:27.281970500Z",
     "start_time": "2024-04-27T17:05:27.221895300Z"
    }
   },
   "id": "5c585fa1cb7a03df"
  },
  {
   "cell_type": "code",
   "execution_count": null,
   "outputs": [],
   "source": [],
   "metadata": {
    "collapsed": false
   },
   "id": "fc9130cd6c428626"
  }
 ],
 "metadata": {
  "kernelspec": {
   "display_name": "Python 3",
   "language": "python",
   "name": "python3"
  },
  "language_info": {
   "codemirror_mode": {
    "name": "ipython",
    "version": 2
   },
   "file_extension": ".py",
   "mimetype": "text/x-python",
   "name": "python",
   "nbconvert_exporter": "python",
   "pygments_lexer": "ipython2",
   "version": "2.7.6"
  }
 },
 "nbformat": 4,
 "nbformat_minor": 5
}
