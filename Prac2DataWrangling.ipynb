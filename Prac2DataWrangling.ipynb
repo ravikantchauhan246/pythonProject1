{
 "cells": [
  {
   "cell_type": "code",
   "execution_count": 18,
   "id": "initial_id",
   "metadata": {
    "collapsed": true,
    "ExecuteTime": {
     "end_time": "2024-04-27T05:42:48.233817600Z",
     "start_time": "2024-04-27T05:42:48.199433300Z"
    }
   },
   "outputs": [
    {
     "name": "stdout",
     "output_type": "stream",
     "text": [
      "Sample Dataset:\n",
      "  Student_ID     Name  Math_Score  Science_Score  History_Score Gender  Age  \\\n",
      "0       S001    Alice        88.0             60           79.0      F   18   \n",
      "1       S002      Bob        78.0             73           87.0      M   19   \n",
      "2       S003  Charlie         NaN             85           51.0      M   20   \n",
      "3       S004    David        92.0             89           70.0      F   19   \n",
      "4       S005      Eve        57.0             73           82.0      F   18   \n",
      "5       S006    Frank        70.0             52            NaN      M   20   \n",
      "6       S007    Grace        88.0             71           71.0      F   19   \n",
      "7       S008    Helen        68.0             51           93.0      X   18   \n",
      "8       S009      Ivy        72.0             73           74.0      M   21   \n",
      "9       S010     Jack        60.0             93           98.0      M   -1   \n",
      "\n",
      "  Class  \n",
      "0     A  \n",
      "1     B  \n",
      "2     A  \n",
      "3     B  \n",
      "4     A  \n",
      "5     B  \n",
      "6     A  \n",
      "7     B  \n",
      "8     A  \n",
      "9     B  \n"
     ]
    }
   ],
   "source": [
    "import pandas as pd\n",
    "import numpy as np\n",
    "import random\n",
    "\n",
    "np.random.seed(42)\n",
    "random.seed(42)\n",
    "\n",
    "# Create a sample dataset\n",
    "data = {\n",
    "    'Student_ID': ['S001', 'S002', 'S003', 'S004', 'S005', 'S006', 'S007', 'S008', 'S009', 'S010'],\n",
    "    'Name': ['Alice', 'Bob', 'Charlie', 'David', 'Eve', 'Frank', 'Grace', 'Helen', 'Ivy', 'Jack'],\n",
    "    'Math_Score': np.random.randint(50, 100, 10),\n",
    "    'Science_Score': np.random.randint(50, 100, 10),\n",
    "    'History_Score': np.random.randint(50, 100, 10),\n",
    "    'Gender': ['F', 'M', 'M', 'F', 'F', 'M', 'F', 'F', 'M', 'M'],\n",
    "    'Age': [18, 19, 20, 19, 18, 20, 19, 18, 21, 20],\n",
    "    'Class': ['A', 'B', 'A', 'B', 'A', 'B', 'A', 'B', 'A', 'B']\n",
    "}\n",
    "\n",
    "df = pd.DataFrame(data)\n",
    "\n",
    "# Introduce missing values and inconsistencies\n",
    "df.loc[2, 'Math_Score'] = np.nan\n",
    "df.loc[5, 'History_Score'] = np.nan\n",
    "df.loc[7, 'Gender'] = 'X'\n",
    "df.loc[9, 'Age'] = -1\n",
    "\n",
    "print(\"Sample Dataset:\")\n",
    "print(df)\n"
   ]
  },
  {
   "cell_type": "code",
   "execution_count": 19,
   "outputs": [
    {
     "name": "stdout",
     "output_type": "stream",
     "text": [
      "\n",
      "Missing Values:\n",
      "Student_ID       0\n",
      "Name             0\n",
      "Math_Score       1\n",
      "Science_Score    0\n",
      "History_Score    1\n",
      "Gender           0\n",
      "Age              0\n",
      "Class            0\n",
      "dtype: int64\n",
      "\n",
      "Inconsistencies:\n",
      "Gender: ['F' 'M' 'X']\n",
      "Age: [18 19 20 21 -1]\n"
     ]
    }
   ],
   "source": [
    "# Check for missing values\n",
    "print(\"\\nMissing Values:\")\n",
    "print(df.isnull().sum())\n",
    "\n",
    "# Check for inconsistencies\n",
    "print(\"\\nInconsistencies:\")\n",
    "print(\"Gender:\", df['Gender'].unique())\n",
    "print(\"Age:\", df['Age'].unique())\n",
    "\n",
    "\n"
   ],
   "metadata": {
    "collapsed": false,
    "ExecuteTime": {
     "end_time": "2024-04-27T05:42:50.172732500Z",
     "start_time": "2024-04-27T05:42:50.109383100Z"
    }
   },
   "id": "7670402055e9b13"
  },
  {
   "cell_type": "code",
   "execution_count": 20,
   "outputs": [
    {
     "name": "stdout",
     "output_type": "stream",
     "text": [
      "\n",
      "Dataset after handling missing values and inconsistencies:\n",
      "  Student_ID     Name  Math_Score  Science_Score  History_Score Gender   Age  \\\n",
      "0       S001    Alice   88.000000             60      79.000000      F  18.0   \n",
      "1       S002      Bob   78.000000             73      87.000000      M  19.0   \n",
      "2       S003  Charlie   74.777778             85      51.000000      M  20.0   \n",
      "3       S004    David   92.000000             89      70.000000      F  19.0   \n",
      "4       S005      Eve   57.000000             73      82.000000      F  18.0   \n",
      "5       S006    Frank   70.000000             52      78.333333      M  20.0   \n",
      "6       S007    Grace   88.000000             71      71.000000      F  19.0   \n",
      "7       S008    Helen   68.000000             51      93.000000    NaN  18.0   \n",
      "8       S009      Ivy   72.000000             73      74.000000      M  21.0   \n",
      "9       S010     Jack   60.000000             93      98.000000      M   NaN   \n",
      "\n",
      "  Class  \n",
      "0     A  \n",
      "1     B  \n",
      "2     A  \n",
      "3     B  \n",
      "4     A  \n",
      "5     B  \n",
      "6     A  \n",
      "7     B  \n",
      "8     A  \n",
      "9     B  \n"
     ]
    }
   ],
   "source": [
    "# Handling missing values and inconsistencies\n",
    "# Replace missing values in 'Math_Score' and 'History_Score' with the mean\n",
    "df['Math_Score']=df['Math_Score'].fillna(df['Math_Score'].mean())\n",
    "df['History_Score']=df['History_Score'].fillna(df['History_Score'].mean())\n",
    "\n",
    "# Replace 'Gender' values other than 'F' and 'M' with NaN\n",
    "df['Gender'] = df['Gender'].apply(lambda x: x if x in ['F', 'M'] else np.nan)\n",
    "\n",
    "# Replace negative age values with NaN\n",
    "df['Age'] = df['Age'].apply(lambda x: x if x >= 0 else np.nan)\n",
    "\n",
    "print(\"\\nDataset after handling missing values and inconsistencies:\")\n",
    "print(df)"
   ],
   "metadata": {
    "collapsed": false,
    "ExecuteTime": {
     "end_time": "2024-04-27T05:42:53.672296200Z",
     "start_time": "2024-04-27T05:42:53.654289100Z"
    }
   },
   "id": "226390c7616e3424"
  },
  {
   "cell_type": "code",
   "execution_count": 21,
   "outputs": [
    {
     "name": "stdout",
     "output_type": "stream",
     "text": [
      "\n",
      "Outliers:\n",
      "Empty DataFrame\n",
      "Columns: [Student_ID, Name, Math_Score, Science_Score, History_Score, Gender, Age, Class]\n",
      "Index: []\n",
      "\n",
      "Dataset after handling outliers:\n",
      "  Student_ID     Name  Math_Score  Science_Score  History_Score Gender   Age  \\\n",
      "0       S001    Alice   88.000000           60.0      79.000000      F  18.0   \n",
      "1       S002      Bob   78.000000           73.0      87.000000      M  19.0   \n",
      "2       S003  Charlie   74.777778           85.0      51.000000      M  20.0   \n",
      "3       S004    David   92.000000           89.0      70.000000      F  19.0   \n",
      "4       S005      Eve   57.000000           73.0      82.000000      F  18.0   \n",
      "5       S006    Frank   70.000000           52.0      78.333333      M  20.0   \n",
      "6       S007    Grace   88.000000           71.0      71.000000      F  19.0   \n",
      "7       S008    Helen   68.000000           51.0      93.000000    NaN  18.0   \n",
      "8       S009      Ivy   72.000000           73.0      74.000000      M  21.0   \n",
      "9       S010     Jack   60.000000           93.0      98.000000      M   NaN   \n",
      "\n",
      "  Class  \n",
      "0     A  \n",
      "1     B  \n",
      "2     A  \n",
      "3     B  \n",
      "4     A  \n",
      "5     B  \n",
      "6     A  \n",
      "7     B  \n",
      "8     A  \n",
      "9     B  \n"
     ]
    }
   ],
   "source": [
    "# Check for outliers using z-score\n",
    "from scipy.stats import zscore\n",
    "\n",
    "numeric_cols = ['Math_Score', 'Science_Score', 'History_Score', 'Age']\n",
    "z_scores = np.abs(zscore(df[numeric_cols]))\n",
    "outliers = (z_scores > 3).any(axis=1)\n",
    "\n",
    "print(\"\\nOutliers:\")\n",
    "print(df[outliers])\n",
    "\n",
    "# Replace outliers with NaN\n",
    "df.loc[outliers, numeric_cols] = np.nan\n",
    "\n",
    "print(\"\\nDataset after handling outliers:\")\n",
    "print(df)\n"
   ],
   "metadata": {
    "collapsed": false,
    "ExecuteTime": {
     "end_time": "2024-04-27T05:43:17.178917900Z",
     "start_time": "2024-04-27T05:43:16.587623Z"
    }
   },
   "id": "63b581f3b4a4a89a"
  },
  {
   "cell_type": "code",
   "execution_count": 24,
   "outputs": [],
   "source": [
    "# Apply log transformation on 'Math_Score' column\n",
    "from sklearn.preprocessing import MinMaxScaler\n",
    "\n",
    "scaler = MinMaxScaler()\n",
    "df[\"Math_Score\"]= scaler.fit_transform(df['Math_Score'].values.reshape(-1,1))"
   ],
   "metadata": {
    "collapsed": false,
    "ExecuteTime": {
     "end_time": "2024-04-27T05:46:55.800132400Z",
     "start_time": "2024-04-27T05:46:55.790824600Z"
    }
   },
   "id": "d8d484ed8f03d62c"
  },
  {
   "cell_type": "code",
   "execution_count": 25,
   "outputs": [
    {
     "name": "stdout",
     "output_type": "stream",
     "text": [
      "  Student_ID     Name  Math_Score  Science_Score  History_Score Gender   Age  \\\n",
      "0       S001    Alice    0.906889           60.0      79.000000      F  18.0   \n",
      "1       S002      Bob    0.654454           73.0      87.000000      M  19.0   \n",
      "2       S003  Charlie    0.566257           85.0      51.000000      M  20.0   \n",
      "3       S004    David    1.000000           89.0      70.000000      F  19.0   \n",
      "4       S005      Eve    0.000000           73.0      82.000000      F  18.0   \n",
      "5       S006    Frank    0.428326           52.0      78.333333      M  20.0   \n",
      "6       S007    Grace    0.906889           71.0      71.000000      F  19.0   \n",
      "7       S008    Helen    0.367809           51.0      93.000000    NaN  18.0   \n",
      "8       S009      Ivy    0.487161           73.0      74.000000      M  21.0   \n",
      "9       S010     Jack    0.106810           93.0      98.000000      M   NaN   \n",
      "\n",
      "  Class  \n",
      "0     A  \n",
      "1     B  \n",
      "2     A  \n",
      "3     B  \n",
      "4     A  \n",
      "5     B  \n",
      "6     A  \n",
      "7     B  \n",
      "8     A  \n",
      "9     B  \n"
     ]
    }
   ],
   "source": [
    "print(df)"
   ],
   "metadata": {
    "collapsed": false,
    "ExecuteTime": {
     "end_time": "2024-04-27T05:47:13.624266400Z",
     "start_time": "2024-04-27T05:47:13.600303600Z"
    }
   },
   "id": "94b9df20cab3baf0"
  },
  {
   "cell_type": "code",
   "execution_count": null,
   "outputs": [],
   "source": [],
   "metadata": {
    "collapsed": false
   },
   "id": "44e91516c3bb12df"
  }
 ],
 "metadata": {
  "kernelspec": {
   "display_name": "Python 3",
   "language": "python",
   "name": "python3"
  },
  "language_info": {
   "codemirror_mode": {
    "name": "ipython",
    "version": 2
   },
   "file_extension": ".py",
   "mimetype": "text/x-python",
   "name": "python",
   "nbconvert_exporter": "python",
   "pygments_lexer": "ipython2",
   "version": "2.7.6"
  }
 },
 "nbformat": 4,
 "nbformat_minor": 5
}
